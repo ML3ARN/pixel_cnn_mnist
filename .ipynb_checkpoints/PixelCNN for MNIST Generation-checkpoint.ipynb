{
 "cells": [
  {
   "cell_type": "markdown",
   "id": "fda1eb31",
   "metadata": {},
   "source": [
    "###### TODO\n",
    "\n",
    "1. Ensure Residual block skip connection is working correctly\n",
    "2. ensure the shapes of inputs and outputs in conv and residual blocks are what is expected"
   ]
  },
  {
   "cell_type": "code",
   "execution_count": 1,
   "id": "df8f9350",
   "metadata": {},
   "outputs": [],
   "source": [
    "import numpy as np\n",
    "import tensorflow as tf\n",
    "from tensorflow.keras import layers\n",
    "from tensorflow.keras.models import Sequential\n",
    "from tensorflow.keras.activations import relu\n",
    "import tensorflow_datasets as tfds\n",
    "import matplotlib.pyplot as plt"
   ]
  },
  {
   "cell_type": "code",
   "execution_count": 2,
   "id": "84d6905c",
   "metadata": {},
   "outputs": [
    {
     "name": "stdout",
     "output_type": "stream",
     "text": [
      "2.4.1\n",
      "[PhysicalDevice(name='/physical_device:GPU:0', device_type='GPU')]\n"
     ]
    }
   ],
   "source": [
    "# check tf version and if gpu is being used\n",
    "\n",
    "print(tf.__version__)\n",
    "print(tf.config.list_physical_devices('GPU'))"
   ]
  },
  {
   "cell_type": "markdown",
   "id": "87f0bc24",
   "metadata": {},
   "source": [
    "<b>Load the data and preprocess it, as mnist consists of greyscale images with one channel we will simply convert them to binary so that they are easier to work with"
   ]
  },
  {
   "cell_type": "code",
   "execution_count": 3,
   "id": "55dfd1c6",
   "metadata": {},
   "outputs": [],
   "source": [
    "(ds_train, ds_test), ds_info = tfds.load('mnist', split=['test', 'test'], shuffle_files=True,\n",
    "                                         as_supervised=True, with_info=True)\n",
    "\n",
    "def to_binary(img, label):\n",
    "    ''' make images binary '''\n",
    "    img = tf.cast(img, tf.float32)\n",
    "    img = tf.math.round(img/255.0)\n",
    "    return img, tf.cast(img, tf.int32)\n",
    "\n",
    "ds_train = ds_train.map(to_binary)\n",
    "ds_train = ds_train.cache()\n",
    "\n",
    "ds_train = ds_train.shuffle(ds_info.splits['train'].num_examples)\n",
    "ds_train = ds_train.batch(64)\n",
    "ds_test = ds_test.map(to_binary).batch(64).cache().prefetch(64)"
   ]
  },
  {
   "cell_type": "markdown",
   "id": "f72122ab",
   "metadata": {},
   "source": [
    "### Custom Layers\n",
    "\n",
    "The PixelCNN will require 2 blocks of layers.\n",
    "\n",
    "1. The Masked 2D Convolution: This is used nsure that the kernel does not have informaion on the value i is predicting. This is done by setting parts of the kernel to zero (masking). There are two types of mask, Type A and B. The type A mask is where the center pixel of the kernelis also masked, in  future layers they are not. Reasoning begind this can be founnd in the paper linked in the readme.\n",
    "\n",
    "\n",
    "2. The Residual Blocks: These layers will allow the netwprk to optimize the residuals of the input features to make the network more efficient.\n",
    "\n",
    "\n",
    "The custom layers will be built by subclassing the Layer class in <i>tensorflow.keras.layers.Layer</i>"
   ]
  },
  {
   "cell_type": "code",
   "execution_count": 6,
   "id": "1ba3c16c",
   "metadata": {},
   "outputs": [
    {
     "name": "stdout",
     "output_type": "stream",
     "text": [
      "Model: \"pixelcnn\"\n",
      "_________________________________________________________________\n",
      "Layer (type)                 Output Shape              Param #   \n",
      "=================================================================\n",
      "input_3 (InputLayer)         [(None, 28, 28, 1)]       0         \n",
      "_________________________________________________________________\n",
      "masked_conv2d_44 (MaskedConv (None, 28, 28, 128)       6400      \n",
      "_________________________________________________________________\n",
      "residual_block_14 (ResidualB (None, 28, 28, 128)       53504     \n",
      "_________________________________________________________________\n",
      "residual_block_15 (ResidualB (None, 28, 28, 128)       53504     \n",
      "_________________________________________________________________\n",
      "residual_block_16 (ResidualB (None, 28, 28, 128)       53504     \n",
      "_________________________________________________________________\n",
      "residual_block_17 (ResidualB (None, 28, 28, 128)       53504     \n",
      "_________________________________________________________________\n",
      "residual_block_18 (ResidualB (None, 28, 28, 128)       53504     \n",
      "_________________________________________________________________\n",
      "residual_block_19 (ResidualB (None, 28, 28, 128)       53504     \n",
      "_________________________________________________________________\n",
      "residual_block_20 (ResidualB (None, 28, 28, 128)       53504     \n",
      "_________________________________________________________________\n",
      "conv2d_4 (Conv2D)            (None, 28, 28, 64)        8256      \n",
      "_________________________________________________________________\n",
      "conv2d_5 (Conv2D)            (None, 28, 28, 1)         65        \n",
      "=================================================================\n",
      "Total params: 389,249\n",
      "Trainable params: 389,249\n",
      "Non-trainable params: 0\n",
      "_________________________________________________________________\n"
     ]
    }
   ],
   "source": [
    "class MaskedConv2D(layers.Layer):\n",
    "    def __init__(self, mask_type, kernel=5, filters=1):\n",
    "        super(MaskedConv2D, self).__init__()\n",
    "        self.kernel = kernel\n",
    "        self.filters = filters\n",
    "        self.mask_type = mask_type\n",
    "        \n",
    "        pass\n",
    "    \n",
    "    def build(self, input_shape):\n",
    "        self.w = self.add_weight(shape=[self.kernel, self.kernel, input_shape[-1], self.filters], \n",
    "                                 initializer='glorot_normal',\n",
    "                                 trainable=True)\n",
    "        \n",
    "        self.b = self.add_weight(shape=(self.filters,), initializer='zeros', trainable=True)\n",
    "        \n",
    "        mask = np.ones(self.kernel**2, dtype=np.float32)\n",
    "        center = len(mask) // 2\n",
    "        if self.mask_type == 'A':\n",
    "            mask[center] = 0 \n",
    "            \n",
    "        mask = mask.reshape((self.kernel, self.kernel, 1, 1))\n",
    "        \n",
    "        self.mask = tf.constant(mask, dtype=tf.float32)\n",
    "        \n",
    "    def call(self, inputs):\n",
    "        \n",
    "        masked_w = tf.math.multiply(self.w, self.mask)\n",
    "        output = tf.nn.conv2d(inputs, masked_w, 1, \"SAME\") + self.b\n",
    "        \n",
    "        return tf.nn.relu(output)\n",
    "    \n",
    "class ResidualBlock(layers.Layer):\n",
    "    def __init__(self, h=32):\n",
    "        super(ResidualBlock, self).__init__()\n",
    "        \n",
    "        self.forward = Sequential([MaskedConv2D('B', kernel=1, filters=h),\n",
    "                                   MaskedConv2D('B', kernel=3, filters=h),\n",
    "                                   MaskedConv2D('B', kernel=1, filters=2*h)])\n",
    "        \n",
    "    def call(self, inputs):\n",
    "        x = self.forward(inputs)\n",
    "        return x + inputs\n",
    "\n",
    "\n",
    "def buildPixelCNN(hidden_features=64, output_features=64, num_resblocks=7):\n",
    "    inputs = layers.Input(shape=[28, 28, 1])\n",
    "    x = inputs\n",
    "    x = MaskedConv2D('A', kernel=7, filters=2*hidden_features)(x)\n",
    "    for _ in range(num_resblocks):\n",
    "        x = ResidualBlock(hidden_features)(x)\n",
    "        \n",
    "    x = layers.Conv2D(output_features, (1,1), padding='same', activation='relu')(x)\n",
    "    x = layers.Conv2D(1, (1,1), padding='same', activation='sigmoid')(x)\n",
    "    \n",
    "    return tf.keras.Model(inputs=inputs, outputs=x, name=\"pixelcnn\")\n",
    "\n",
    "pixelcnn = buildPixelCNN()\n",
    "pixelcnn.summary()"
   ]
  },
  {
   "cell_type": "code",
   "execution_count": null,
   "id": "1b402cce",
   "metadata": {},
   "outputs": [],
   "source": []
  },
  {
   "cell_type": "code",
   "execution_count": null,
   "id": "ae5e4d2f",
   "metadata": {},
   "outputs": [],
   "source": []
  },
  {
   "cell_type": "code",
   "execution_count": null,
   "id": "e5d9eea2",
   "metadata": {},
   "outputs": [],
   "source": []
  },
  {
   "cell_type": "code",
   "execution_count": null,
   "id": "06d9b252",
   "metadata": {},
   "outputs": [],
   "source": []
  }
 ],
 "metadata": {
  "kernelspec": {
   "display_name": "Python 3",
   "language": "python",
   "name": "python3"
  },
  "language_info": {
   "codemirror_mode": {
    "name": "ipython",
    "version": 3
   },
   "file_extension": ".py",
   "mimetype": "text/x-python",
   "name": "python",
   "nbconvert_exporter": "python",
   "pygments_lexer": "ipython3",
   "version": "3.8.7"
  }
 },
 "nbformat": 4,
 "nbformat_minor": 5
}
